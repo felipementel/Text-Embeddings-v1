{
 "cells": [
  {
   "cell_type": "markdown",
   "metadata": {},
   "source": [
    "# Azure OpenAI Text Embeddings Demo\n",
    "\n",
    "## Pré-requisitos\n",
    "Antes de executar este notebook, instale as dependências executando no terminal:\n",
    "\n",
    "```bash\n",
    "pip install -r requirements.txt\n",
    "```\n",
    "\n",
    "**Para Python 3.13**: Se houver erros de compatibilidade, use apenas os pacotes essenciais:\n",
    "```bash\n",
    "pip install openai python-dotenv numpy --upgrade\n",
    "```\n",
    "\n",
    "## Configuração\n",
    "Certifique-se de ter um arquivo `.env` na raiz do projeto com:\n",
    "```\n",
    "AZURE_OPENAI_API_KEY=sua_chave_aqui\n",
    "AZURE_OPENAI_ENDPOINT=https://seu-recurso.openai.azure.com/\n",
    "AZURE_OPENAI_EMBEDDINGS_DEPLOYMENT=nome_do_deployment\n",
    "```"
   ]
  },
  {
   "cell_type": "code",
   "execution_count": null,
   "metadata": {},
   "outputs": [],
   "source": [
    "# Instalar dependências\n",
    "# Tente primeiro esta opção:\n",
    "%pip install -r requirements.txt\n",
    "\n",
    "# Se houver erro de compatibilidade com Python 3.13, use esta alternativa:\n",
    "# %pip install openai python-dotenv numpy --upgrade"
   ]
  },
  {
   "cell_type": "code",
   "execution_count": null,
   "metadata": {},
   "outputs": [],
   "source": [
    "import os\n",
    "from openai import AzureOpenAI\n",
    "import numpy as np\n",
    "from dotenv import load_dotenv\n",
    "load_dotenv()\n",
    "\n",
    "client = AzureOpenAI(\n",
    "  api_key = os.getenv(\"AZURE_OPENAI_API_KEY\"),\n",
    "  api_version = os.getenv(\"AZURE_OPENAI_API_VERSION\"),\n",
    "  azure_endpoint = os.getenv(\"AZURE_OPENAI_ENDPOINT\")\n",
    ")"
   ]
  },
  {
   "cell_type": "code",
   "execution_count": null,
   "metadata": {},
   "outputs": [],
   "source": [
    "def cosine_similarity(a, b):\n",
    "    return np.dot(a, b) / (np.linalg.norm(a) * np.linalg.norm(b))"
   ]
  },
  {
   "cell_type": "code",
   "execution_count": null,
   "metadata": {},
   "outputs": [],
   "source": [
    "text  = 'Eu quero entender mais sobre OpenTelemetry'\n",
    "model = os.getenv(\"AZURE_OPENAI_EMBEDDINGS_DEPLOYMENT\")\n",
    "\n",
    "client.embeddings.create(input = [text], model=model).data[0].embedding"
   ]
  },
  {
   "cell_type": "code",
   "execution_count": null,
   "metadata": {},
   "outputs": [],
   "source": [
    "#Criando embeddings para palavras específicas\n",
    "carro_embedding        = client.embeddings.create(input = 'Carro', model=model).data[0].embedding\n",
    "milho_embedding        = client.embeddings.create(input = 'Milho', model=model).data[0].embedding\n",
    "retrato_embedding      = client.embeddings.create(input = 'Retrato', model=model).data[0].embedding\n",
    "internet6g_embedding   = client.embeddings.create(input = 'Internet 6G', model=model).data[0].embedding\n",
    "\n",
    "# Comparando similaridade entre embeddings\n",
    "print(cosine_similarity(carro_embedding, carro_embedding))\n",
    "print(cosine_similarity(carro_embedding, milho_embedding))\n",
    "print(cosine_similarity(carro_embedding, retrato_embedding))\n",
    "print(cosine_similarity(carro_embedding, internet6g_embedding))"
   ]
  }
 ],
 "metadata": {
  "kernelspec": {
   "display_name": "Python 3",
   "language": "python",
   "name": "python3"
  },
  "language_info": {
   "codemirror_mode": {
    "name": "ipython",
    "version": 3
   },
   "file_extension": ".py",
   "mimetype": "text/x-python",
   "name": "python",
   "nbconvert_exporter": "python",
   "pygments_lexer": "ipython3",
   "version": "3.13.5"
  },
  "orig_nbformat": 4
 },
 "nbformat": 4,
 "nbformat_minor": 2
}
